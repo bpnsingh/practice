{
 "cells": [
  {
   "cell_type": "code",
   "execution_count": 1,
   "metadata": {},
   "outputs": [
    {
     "name": "stdout",
     "output_type": "stream",
     "text": [
      "0\n",
      "1\n",
      "2\n",
      "3\n",
      "4\n",
      "5\n",
      "6\n",
      "7\n",
      "8\n",
      "9\n"
     ]
    }
   ],
   "source": [
    "test_condition= True\n",
    "i=0\n",
    "while i<10:\n",
    "    print(i)\n",
    "    i+=1\n",
    "    "
   ]
  },
  {
   "cell_type": "code",
   "execution_count": 3,
   "metadata": {},
   "outputs": [
    {
     "name": "stdout",
     "output_type": "stream",
     "text": [
      "we found matching number 25 at index 175\n",
      "we found matching number 25 at index 269\n",
      "we found matching number 25 at index 656\n",
      "we found matching number 25 at index 801\n",
      "we found matching number 25 at index 823\n",
      "we found matching number 25 at index 863\n"
     ]
    }
   ],
   "source": [
    "from random import randint\n",
    "l1=[randint(1,100) for num in range(1000)]\n",
    "i=0\n",
    "number_to_search=25\n",
    "while i< len(l1):\n",
    "    if number_to_search == l1[i]:\n",
    "        print (f\"we found matching number {number_to_search} at index {i}\")\n",
    "        #break\n",
    "    i+=1\n"
   ]
  },
  {
   "cell_type": "code",
   "execution_count": 4,
   "metadata": {},
   "outputs": [
    {
     "name": "stdout",
     "output_type": "stream",
     "text": [
      "we found matching number 25 at index 176\n",
      "we found matching number 25 at index 270\n",
      "we found matching number 25 at index 657\n",
      "we found matching number 25 at index 802\n",
      "we found matching number 25 at index 824\n",
      "we found matching number 25 at index 864\n"
     ]
    }
   ],
   "source": [
    "i=0\n",
    "for num in l1:\n",
    "    i+=1\n",
    "    if number_to_search == num:\n",
    "        print (f\"we found matching number {number_to_search} at index {i}\")\n"
   ]
  },
  {
   "cell_type": "code",
   "execution_count": 5,
   "metadata": {},
   "outputs": [
    {
     "name": "stdout",
     "output_type": "stream",
     "text": [
      "we found matching number 25 at index 175\n",
      "we found matching number 25 at index 269\n",
      "we found matching number 25 at index 656\n",
      "we found matching number 25 at index 801\n",
      "we found matching number 25 at index 823\n",
      "we found matching number 25 at index 863\n"
     ]
    }
   ],
   "source": [
    "i=0\n",
    "for index,num in enumerate(l1):\n",
    "    if number_to_search == num:\n",
    "        print (f\"we found matching number {number_to_search} at index {index}\")"
   ]
  },
  {
   "cell_type": "code",
   "execution_count": null,
   "metadata": {},
   "outputs": [],
   "source": []
  }
 ],
 "metadata": {
  "kernelspec": {
   "display_name": "Python 3",
   "language": "python",
   "name": "python3"
  },
  "language_info": {
   "codemirror_mode": {
    "name": "ipython",
    "version": 3
   },
   "file_extension": ".py",
   "mimetype": "text/x-python",
   "name": "python",
   "nbconvert_exporter": "python",
   "pygments_lexer": "ipython3",
   "version": "3.8.1"
  }
 },
 "nbformat": 4,
 "nbformat_minor": 4
}
