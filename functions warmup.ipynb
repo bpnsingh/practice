{
 "cells": [
  {
   "cell_type": "code",
   "execution_count": 5,
   "metadata": {},
   "outputs": [
    {
     "name": "stdout",
     "output_type": "stream",
     "text": [
      "[2, 9, 3]\n"
     ]
    }
   ],
   "source": [
    "arr1=[5,9,3]\n",
    "arr2=[2,16,4]\n",
    "\n",
    "def func_0(arr_1,arr_2):\n",
    "    list_3=[]\n",
    "    for a,b in zip(arr_1,arr_2):\n",
    "        if a<b:\n",
    "            list_3.append(a)\n",
    "        else:\n",
    "            list_3.append(b)\n",
    "    return list_3\n",
    "print (func_0(arr1,arr2))"
   ]
  },
  {
   "cell_type": "code",
   "execution_count": 10,
   "metadata": {},
   "outputs": [
    {
     "name": "stdout",
     "output_type": "stream",
     "text": [
      "first argument list before sorting[5, 9, 3]\n",
      "second argument list before sorting[2, 16, 4]\n",
      "first argument list after sorting[3, 5, 9]\n",
      "second argument list after sorting[2, 4, 16]\n",
      "[2, 4, 9]\n"
     ]
    }
   ],
   "source": [
    "arr1=[5,9,3]\n",
    "arr2=[2,16,4]\n",
    "def func_1(arr_1,arr_2):\n",
    "    print (f\"first argument list before sorting{arr_1}\")\n",
    "    print (f\"second argument list before sorting{arr_2}\")\n",
    "    arr_1.sort()\n",
    "    arr_2.sort()\n",
    "    print (f\"first argument list after sorting{arr_1}\")\n",
    "    print (f\"second argument list after sorting{arr_2}\")\n",
    "    return func_0(arr_1,arr_2)\n",
    "print (func_1(arr1,arr2))\n",
    "    \n",
    "    "
   ]
  },
  {
   "cell_type": "code",
   "execution_count": 26,
   "metadata": {},
   "outputs": [
    {
     "name": "stdout",
     "output_type": "stream",
     "text": [
      "H-->e-->l-->l-->o\n"
     ]
    }
   ],
   "source": [
    "def func_2(input_str):\n",
    "    list_a=[]\n",
    "    for c in input_str:\n",
    "        list_a.append(c)\n",
    "    return ('-->'.join(list_a))\n",
    "print(func_2('Hello'))\n",
    "        "
   ]
  },
  {
   "cell_type": "code",
   "execution_count": 13,
   "metadata": {},
   "outputs": [
    {
     "name": "stdout",
     "output_type": "stream",
     "text": [
      "Busted!\n"
     ]
    }
   ],
   "source": [
    "def get_hand_value(*args):\n",
    "    sum= 0\n",
    "    for element in args:\n",
    "        sum+=element\n",
    "    if sum <= 21 and len(args)>2:\n",
    "        return (f\"The value of your hand is {sum}\")\n",
    "    elif sum == 21 and 11 in args and 10 in args and len(args)==2:\n",
    "        return (f\"Winner Winner Chicken Dinner\")\n",
    "    else:\n",
    "        return (\"Busted!\")\n",
    "        \n",
    "# While testing the execution of your program, I will use the hands below:\n",
    "hand_1 = get_hand_value(4,4,4,4)\n",
    "hand_2 = get_hand_value(11,10)\n",
    "hand_3 = get_hand_value(11,5,6,4,11,4)\n",
    "hand_4 = get_hand_value(11,5,6,10)\n",
    "hand_5 = get_hand_value(10,5,7)\n",
    "hand_6 = get_hand_value(5,6,5,10)\n",
    "hand_7 = get_hand_value(10,11)\n",
    "hand_8 = get_hand_value(11,11,11,11,10,10)\n",
    "hand_9 = get_hand_value(5,6,5,5)\n",
    "\n",
    "print (hand_8)"
   ]
  },
  {
   "cell_type": "code",
   "execution_count": 35,
   "metadata": {},
   "outputs": [
    {
     "data": {
      "text/plain": [
       "0"
      ]
     },
     "execution_count": 35,
     "metadata": {},
     "output_type": "execute_result"
    }
   ],
   "source": [
    "21//23"
   ]
  }
 ],
 "metadata": {
  "kernelspec": {
   "display_name": "Python 3",
   "language": "python",
   "name": "python3"
  },
  "language_info": {
   "codemirror_mode": {
    "name": "ipython",
    "version": 3
   },
   "file_extension": ".py",
   "mimetype": "text/x-python",
   "name": "python",
   "nbconvert_exporter": "python",
   "pygments_lexer": "ipython3",
   "version": "3.8.1"
  }
 },
 "nbformat": 4,
 "nbformat_minor": 4
}
