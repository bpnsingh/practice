{
 "cells": [
  {
   "cell_type": "code",
   "execution_count": 8,
   "id": "binding-national",
   "metadata": {},
   "outputs": [],
   "source": [
    "import json\n",
    "import os\n",
    "import pandas as pd\n",
    "from datetime import datetime\n",
    "import  time"
   ]
  },
  {
   "cell_type": "code",
   "execution_count": 2,
   "id": "usual-portuguese",
   "metadata": {},
   "outputs": [],
   "source": [
    "df = pd.DataFrame([], columns=['URL','SEO','Accessibility','Performance','Best Practices'])"
   ]
  },
  {
   "cell_type": "code",
   "execution_count": 3,
   "id": "short-investing",
   "metadata": {},
   "outputs": [],
   "source": [
    "name = \"RocketClicks\" \n",
    "getdate = datetime.now().strftime(\"%m-%d-%y\")\n",
    "\n",
    "urls = [\"https://www.dialpad.com\",\"https://www.dialpad.com/voice-intelligence/\",\"https://www.dialpad.com/talk/\"]"
   ]
  },
  {
   "cell_type": "code",
   "execution_count": 5,
   "id": "ceramic-attack",
   "metadata": {},
   "outputs": [],
   "source": [
    "for url in urls:    \n",
    "    stream = os.popen('lighthouse --quiet --no-update-notifier --no-enable-error-reporting --output=json --output-path=YOUR_LOCAL_PATH'+name+'_'+getdate+'.report.json --chrome-flags=\"--headless\" ' + url)"
   ]
  },
  {
   "cell_type": "code",
   "execution_count": null,
   "id": "streaming-convertible",
   "metadata": {},
   "outputs": [],
   "source": [
    "time.sleep(120)\n",
    "print(\"Report complete for: \" + url)\n",
    "json_filename = name + '_' + getdate + '.report.json'"
   ]
  }
 ],
 "metadata": {
  "kernelspec": {
   "display_name": "Python 3",
   "language": "python",
   "name": "python3"
  },
  "language_info": {
   "codemirror_mode": {
    "name": "ipython",
    "version": 3
   },
   "file_extension": ".py",
   "mimetype": "text/x-python",
   "name": "python",
   "nbconvert_exporter": "python",
   "pygments_lexer": "ipython3",
   "version": "3.8.5"
  }
 },
 "nbformat": 4,
 "nbformat_minor": 5
}
