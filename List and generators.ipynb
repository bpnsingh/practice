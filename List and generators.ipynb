{
 "cells": [
  {
   "cell_type": "code",
   "execution_count": 6,
   "metadata": {},
   "outputs": [
    {
     "name": "stdout",
     "output_type": "stream",
     "text": [
      "63\n"
     ]
    }
   ],
   "source": [
    "l = [6, 8, 1, 4, 10, 7, 8, 9, 3, 2, 5]\n",
    "sum = 0 \n",
    "for num in l:\n",
    "    #sum= sum+ num\n",
    "    sum+=num\n",
    "print (sum)"
   ]
  },
  {
   "cell_type": "code",
   "execution_count": 5,
   "metadata": {},
   "outputs": [
    {
     "name": "stdout",
     "output_type": "stream",
     "text": [
      "63\n"
     ]
    }
   ],
   "source": [
    "sum=0\n",
    "for num in range(len(l)):\n",
    "    sum=sum+l[num]\n",
    "print (sum)"
   ]
  },
  {
   "cell_type": "code",
   "execution_count": 8,
   "metadata": {},
   "outputs": [
    {
     "name": "stdout",
     "output_type": "stream",
     "text": [
      "how many times you want to run10\n",
      "Run:1\n",
      "Run:2\n",
      "Run:3\n",
      "Run:4\n",
      "Run:5\n",
      "Run:6\n",
      "Run:7\n",
      "Run:8\n",
      "Run:9\n",
      "Run:10\n"
     ]
    }
   ],
   "source": [
    "run_times= int(input(\"how many times you want to run\"))\n",
    "for num in range(run_times):\n",
    "    print (f\"Run:{num+1}\")\n",
    "    "
   ]
  },
  {
   "cell_type": "code",
   "execution_count": 10,
   "metadata": {},
   "outputs": [
    {
     "name": "stdout",
     "output_type": "stream",
     "text": [
      "key is :py value is:python\n",
      "key is :rb value is:ruby\n",
      "key is :js value is:javascript\n"
     ]
    }
   ],
   "source": [
    "my_dict = {'py': 'python', 'rb': 'ruby', 'js': 'javascript'}\n",
    "for k,v in my_dict.items():\n",
    "    print (f\"key is :{k} value is:{v}\")"
   ]
  },
  {
   "cell_type": "code",
   "execution_count": 15,
   "metadata": {},
   "outputs": [
    {
     "name": "stdout",
     "output_type": "stream",
     "text": [
      "['m', 'r', 'j', 'u', 's', 'w', 'x', 'j', 'q', 'y', 't', 'f', 'd', 'u', 'f', 'l', 'x', 'h', 'j', 'r', 'v', 'k', 'w', 'm', 'm', 'c', 'r', 'w', 'm', 'n', 'c', 'x', 'b', 'p', 's', 'b', 'n', 'w', 'd', 'c', 'a', 'p', 'r', 'z', 'k', 'd', 't', 'j', 'm', 't', 'o', 'q', 'v', 'm', 'w', 'c', 'c', 'v', 'u', 'n', 'h', 'o', 'j', 'f', 'u', 'd', 'f', 'l', 'f', 'w', 'j', 'b', 't', 't', 't', 's', 'f', 'v', 'a', 'u', 'z', 'h', 'o', 'v', 'q', 'x', 'e', 'b', 'c', 't', 'j', 'q', 'f', 'w', 'k', 'e', 'a', 'v', 'o', 'l']\n"
     ]
    }
   ],
   "source": [
    "from random import randint,choice\n",
    "from string import ascii_lowercase\n",
    "l1=[choice(ascii_lowercase) for num in range(100)]\n",
    "print (l1)"
   ]
  },
  {
   "cell_type": "code",
   "execution_count": 19,
   "metadata": {},
   "outputs": [
    {
     "name": "stdout",
     "output_type": "stream",
     "text": [
      "100\n",
      "93\n",
      "93\n"
     ]
    }
   ],
   "source": [
    "lista=[randint(1,1000) for i in range(100)]\n",
    "print (len(lista))\n",
    "my_set=set(lista)\n",
    "print (len(my_set))\n",
    "my_uniq_list=list(my_set)\n",
    "print (len(my_uniq_list))"
   ]
  },
  {
   "cell_type": "code",
   "execution_count": 18,
   "metadata": {},
   "outputs": [
    {
     "ename": "SyntaxError",
     "evalue": "unmatched ')' (<ipython-input-18-a35077a93b18>, line 1)",
     "output_type": "error",
     "traceback": [
      "\u001b[0;36m  File \u001b[0;32m\"<ipython-input-18-a35077a93b18>\"\u001b[0;36m, line \u001b[0;32m1\u001b[0m\n\u001b[0;31m    )\u001b[0m\n\u001b[0m    ^\u001b[0m\n\u001b[0;31mSyntaxError\u001b[0m\u001b[0;31m:\u001b[0m unmatched ')'\n"
     ]
    }
   ],
   "source": [
    ")"
   ]
  },
  {
   "cell_type": "code",
   "execution_count": 22,
   "metadata": {},
   "outputs": [
    {
     "name": "stdout",
     "output_type": "stream",
     "text": [
      "[106, 330, 297, 66, 192, 273, 143, 124, 271, 29, 73, 187, 60, 282, 488, 382, 398, 61, 468, 227, 475, 216, 141, 173, 365, 460, 29, 287, 431, 374, 238, 199, 474, 76, 410, 161, 312, 145, 472, 58, 402, 480, 159, 417, 418, 289, 339, 464, 464, 320, 353, 420, 93, 153, 189, 388, 123, 465, 87, 188, 157, 50, 365, 389, 88, 25, 211, 189, 36, 37, 348, 498, 483, 122, 192, 326, 411, 34, 91, 232, 71, 218, 232, 341, 144, 345, 167, 337, 304, 291, 190, 265, 271, 304, 116, 331, 175, 228, 54, 400, 269, 148, 136, 215, 370, 186, 201, 336, 486, 236, 362, 129, 372, 131, 410, 321, 431, 89, 104, 429, 27, 454, 144, 106, 210, 484, 389, 384, 86, 208, 358, 205, 330, 118, 439, 392, 202, 230, 414, 253, 173, 462, 431, 111, 356, 33, 257, 317, 476, 406, 120, 221, 321, 73, 254, 422, 31, 440, 230, 279, 270, 85, 169, 232, 225, 385, 269, 418, 338, 490, 39, 310, 356, 98, 236, 296, 126, 332, 437, 270, 483, 140, 121, 275, 128, 69, 296, 447, 436, 62, 236, 71, 64, 153, 304, 458, 242, 376, 95, 29]\n"
     ]
    }
   ],
   "source": [
    "import random\n",
    "my_list=[random.randint(25,500) for num in range(0,200)]\n",
    "print (my_list)"
   ]
  },
  {
   "cell_type": "code",
   "execution_count": 23,
   "metadata": {},
   "outputs": [
    {
     "name": "stdout",
     "output_type": "stream",
     "text": [
      "Initial size of my_list: 200\n"
     ]
    }
   ],
   "source": [
    "initial_size = len(my_list) # replace the code to the left\n",
    "print(f\"Initial size of my_list: {initial_size}\")"
   ]
  },
  {
   "cell_type": "code",
   "execution_count": 24,
   "metadata": {},
   "outputs": [
    {
     "name": "stdout",
     "output_type": "stream",
     "text": [
      "Final size of my_list after removing duplicates: 168\n"
     ]
    }
   ],
   "source": [
    "my_set = set(my_list) # replace the code to the left\n",
    "final_size = len(my_set) # replace the code to the left\n",
    "print(f\"Final size of my_list after removing duplicates: {final_size}\")"
   ]
  },
  {
   "cell_type": "code",
   "execution_count": 25,
   "metadata": {},
   "outputs": [
    {
     "name": "stdout",
     "output_type": "stream",
     "text": [
      "['__and__', '__class__', '__contains__', '__delattr__', '__dir__', '__doc__', '__eq__', '__format__', '__ge__', '__getattribute__', '__gt__', '__hash__', '__iand__', '__init__', '__init_subclass__', '__ior__', '__isub__', '__iter__', '__ixor__', '__le__', '__len__', '__lt__', '__ne__', '__new__', '__or__', '__rand__', '__reduce__', '__reduce_ex__', '__repr__', '__ror__', '__rsub__', '__rxor__', '__setattr__', '__sizeof__', '__str__', '__sub__', '__subclasshook__', '__xor__', 'add', 'clear', 'copy', 'difference', 'difference_update', 'discard', 'intersection', 'intersection_update', 'isdisjoint', 'issubset', 'issuperset', 'pop', 'remove', 'symmetric_difference', 'symmetric_difference_update', 'union', 'update']\n"
     ]
    }
   ],
   "source": [
    "print(dir(my_set))"
   ]
  },
  {
   "cell_type": "code",
   "execution_count": 28,
   "metadata": {},
   "outputs": [
    {
     "name": "stdout",
     "output_type": "stream",
     "text": [
      "Number of integers removed: 32\n"
     ]
    }
   ],
   "source": [
    "dups_removed = initial_size-final_size\n",
    "print(f\"Number of integers removed: {dups_removed}\")"
   ]
  },
  {
   "cell_type": "code",
   "execution_count": 31,
   "metadata": {},
   "outputs": [
    {
     "data": {
      "text/plain": [
       "498"
      ]
     },
     "execution_count": 31,
     "metadata": {},
     "output_type": "execute_result"
    }
   ],
   "source": [
    "max(my_list)"
   ]
  },
  {
   "cell_type": "code",
   "execution_count": 33,
   "metadata": {},
   "outputs": [
    {
     "data": {
      "text/plain": [
       "25"
      ]
     },
     "execution_count": 33,
     "metadata": {},
     "output_type": "execute_result"
    }
   ],
   "source": [
    "min(my_list)"
   ]
  },
  {
   "cell_type": "code",
   "execution_count": 35,
   "metadata": {},
   "outputs": [],
   "source": [
    "my_tuple=tuple(my_list)"
   ]
  },
  {
   "cell_type": "code",
   "execution_count": 40,
   "metadata": {},
   "outputs": [
    {
     "name": "stdout",
     "output_type": "stream",
     "text": [
      "29\n",
      "95\n",
      "376\n"
     ]
    }
   ],
   "source": [
    "len(my_tuple)\n",
    "print (my_tuple[len(my_tuple)-1])\n",
    "print (my_tuple[len(my_tuple)-2])\n",
    "print (my_tuple[len(my_tuple)-3])\n"
   ]
  },
  {
   "cell_type": "code",
   "execution_count": 41,
   "metadata": {},
   "outputs": [],
   "source": [
    "my_new_tuple=my_tuple[::-1]"
   ]
  },
  {
   "cell_type": "code",
   "execution_count": 43,
   "metadata": {},
   "outputs": [
    {
     "name": "stdout",
     "output_type": "stream",
     "text": [
      "False\n"
     ]
    }
   ],
   "source": [
    "Result=my_new_tuple[0] == my_tuple[0]\n",
    "print (Result)\n"
   ]
  },
  {
   "cell_type": "code",
   "execution_count": 44,
   "metadata": {},
   "outputs": [
    {
     "name": "stdout",
     "output_type": "stream",
     "text": [
      "First integer of my_tuple matches last integer of my_new_tuple is a False statement\n"
     ]
    }
   ],
   "source": [
    "print(f\"First integer of my_tuple matches last integer of my_new_tuple is a {my_new_tuple[0] == my_tuple[0]} statement\")"
   ]
  },
  {
   "cell_type": "code",
   "execution_count": 45,
   "metadata": {},
   "outputs": [
    {
     "name": "stdout",
     "output_type": "stream",
     "text": [
      "My newly created 5 integer tuple is (29, 95, 376, 242, 458)\n",
      "----------------------------------------\n"
     ]
    }
   ],
   "source": [
    "my_other_tuple = my_new_tuple[:5]\n",
    "print(f\"My newly created 5 integer tuple is {my_other_tuple}\")\n",
    "print('-'*40)"
   ]
  },
  {
   "cell_type": "code",
   "execution_count": 46,
   "metadata": {},
   "outputs": [
    {
     "name": "stdout",
     "output_type": "stream",
     "text": [
      "[106, 330, 297, 66, 192, 273, 143, 124, 271, 29, 73, 187, 60, 282, 488, 382, 398, 61, 468, 227, 475, 216, 141, 173, 365, 460, 29, 287, 431, 374, 238, 199, 474, 76, 410, 161, 312, 145, 472, 58, 402, 480, 159, 417, 418, 289, 339, 464, 464, 320, 353, 420, 93, 153, 189, 388, 123, 465, 87, 188, 157, 50, 365, 389, 88, 25, 211, 189, 36, 37, 348, 498, 483, 122, 192, 326, 411, 34, 91, 232, 71, 218, 232, 341, 144, 345, 167, 337, 304, 291, 190, 265, 271, 304, 116, 331, 175, 228, 54, 400, 269, 148, 136, 215, 370, 186, 201, 336, 486, 236, 362, 129, 372, 131, 410, 321, 431, 89, 104, 429, 27, 454, 144, 106, 210, 484, 389, 384, 86, 208, 358, 205, 330, 118, 439, 392, 202, 230, 414, 253, 173, 462, 431, 111, 356, 33, 257, 317, 476, 406, 120, 221, 321, 73, 254, 422, 31, 440, 230, 279, 270, 85, 169, 232, 225, 385, 269, 418, 338, 490, 39, 310, 356, 98, 236, 296, 126, 332, 437, 270, 483, 140, 121, 275, 128, 69, 296, 447, 436, 62, 236, 71, 64, 153, 304, 458, 242, 376, 95, 29]\n",
      "[458, 242, 376, 95, 29]\n"
     ]
    }
   ],
   "source": [
    "print (my_list)\n",
    "print (my_list[len(my_list)-5:])"
   ]
  },
  {
   "cell_type": "code",
   "execution_count": 47,
   "metadata": {},
   "outputs": [
    {
     "name": "stdout",
     "output_type": "stream",
     "text": [
      "Integers in my_other_tuple match the last 5 integers of my_list is a True statement\n",
      "----------------------------------------\n",
      "\n"
     ]
    }
   ],
   "source": [
    "tuple_and_list_comp = sorted(my_other_tuple) == sorted(my_list[len(my_list)-5:])\n",
    "print(f\"Integers in my_other_tuple match the last 5 integers of my_list is a {tuple_and_list_comp} statement\")\n",
    "print('-'*40)\n",
    "print()"
   ]
  },
  {
   "cell_type": "code",
   "execution_count": 48,
   "metadata": {},
   "outputs": [
    {
     "name": "stdout",
     "output_type": "stream",
     "text": [
      "['__add__', '__class__', '__contains__', '__delattr__', '__dir__', '__doc__', '__eq__', '__format__', '__ge__', '__getattribute__', '__getitem__', '__getnewargs__', '__gt__', '__hash__', '__init__', '__init_subclass__', '__iter__', '__le__', '__len__', '__lt__', '__mul__', '__ne__', '__new__', '__reduce__', '__reduce_ex__', '__repr__', '__rmul__', '__setattr__', '__sizeof__', '__str__', '__subclasshook__', 'count', 'index']\n"
     ]
    }
   ],
   "source": [
    "print (dir(my_other_tuple))"
   ]
  },
  {
   "cell_type": "code",
   "execution_count": 51,
   "metadata": {},
   "outputs": [
    {
     "name": "stdout",
     "output_type": "stream",
     "text": [
      "I can take {'python'} since I need it and it's available\n",
      "----------------------------------------\n",
      "\n"
     ]
    }
   ],
   "source": [
    "my_requirements = {'ruby','python'}\n",
    "available_languages = {\"comp sci\", \"physics\", \"elec engr\", \"philosophy\", \"python\"}\n",
    "my_match = available_languages.intersection(my_requirements)\n",
    "print(f\"I can take {my_match} since I need it and it's available\")\n",
    "print('-'*40)\n",
    "print()\n"
   ]
  },
  {
   "cell_type": "code",
   "execution_count": 61,
   "metadata": {},
   "outputs": [
    {
     "name": "stdout",
     "output_type": "stream",
     "text": [
      "[dict_values(['the round fruit of a tree of the rose family', 'an insect which cleans up the floor']), dict_values(['the round fruit of a tree of the rose family', 'an insect which cleans up the floor']), dict_values(['of poor quaity or low standard', 'season 8 of GOT']), dict_values(['of poor quaity or low standard', 'season 8 of GOT'])]\n"
     ]
    }
   ],
   "source": [
    "word_dict = {'a':\n",
    "                {\n",
    "                 'apple': 'the round fruit of a tree of the rose family',\n",
    "                 'ant': 'an insect which cleans up the floor'\n",
    "                },\n",
    "             'b':\n",
    "                {\n",
    "                 'bad': 'of poor quaity or low standard',\n",
    "                 'business': 'season 8 of GOT'\n",
    "                }\n",
    "            }\n",
    "lista = []\n",
    "for k,v in word_dict.items():\n",
    "    for meaning in v.values():\n",
    "        lista.append(v.values())\n",
    "print (lista)\n",
    "    "
   ]
  },
  {
   "cell_type": "code",
   "execution_count": 1,
   "metadata": {},
   "outputs": [
    {
     "name": "stdout",
     "output_type": "stream",
     "text": [
      "The meanings in the dictionary are ['the round fruit of a tree of the rose family', 'an insect which cleans up the floor', 'of poor quaity or low standard', 'season 8 of GOT']\n"
     ]
    }
   ],
   "source": [
    "word_dict = {'a':\n",
    "                {\n",
    "                 'apple': 'the round fruit of a tree of the rose family',\n",
    "                 'ant': 'an insect which cleans up the floor'\n",
    "                },\n",
    "             'b':\n",
    "                {\n",
    "                 'bad': 'of poor quaity or low standard',\n",
    "                 'business': 'season 8 of GOT'\n",
    "                }\n",
    "            }\n",
    "my_al_list = []\n",
    "for letter, combo in word_dict.items():\n",
    "    for meaning in combo.values():\n",
    "        my_al_list.append(meaning)\n",
    "print(f\"The meanings in the dictionary are {my_al_list}\")"
   ]
  },
  {
   "cell_type": "code",
   "execution_count": 7,
   "metadata": {},
   "outputs": [
    {
     "name": "stdout",
     "output_type": "stream",
     "text": [
      "The meanings in the dictionary are ['the round fruit of a tree of the rose family', 'an insect which cleans up the floor', 'of poor quaity or low standard', 'season 8 of GOT']\n"
     ]
    }
   ],
   "source": [
    "my_al_list = []\n",
    "for character, definition in word_dict.items():\n",
    "    for description in definition.values():\n",
    "        my_al_list.append(description)\n",
    "print(f\"The meanings in the dictionary are {my_al_list}\")"
   ]
  },
  {
   "cell_type": "code",
   "execution_count": null,
   "metadata": {},
   "outputs": [],
   "source": []
  }
 ],
 "metadata": {
  "kernelspec": {
   "display_name": "Python 3",
   "language": "python",
   "name": "python3"
  },
  "language_info": {
   "codemirror_mode": {
    "name": "ipython",
    "version": 3
   },
   "file_extension": ".py",
   "mimetype": "text/x-python",
   "name": "python",
   "nbconvert_exporter": "python",
   "pygments_lexer": "ipython3",
   "version": "3.8.1"
  }
 },
 "nbformat": 4,
 "nbformat_minor": 4
}
