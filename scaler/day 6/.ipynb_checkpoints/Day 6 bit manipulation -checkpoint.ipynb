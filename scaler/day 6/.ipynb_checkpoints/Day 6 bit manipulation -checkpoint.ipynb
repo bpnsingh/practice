{
 "cells": [
  {
   "cell_type": "markdown",
   "id": "pleasant-hospital",
   "metadata": {},
   "source": [
    "# Given any number, check ith bit is set or unset\n",
    "for N=21, and i=2==> its set\n",
    "for N=25(11001), and i=2 its unset"
   ]
  },
  {
   "cell_type": "code",
   "execution_count": 3,
   "id": "funky-syndication",
   "metadata": {},
   "outputs": [
    {
     "name": "stdout",
     "output_type": "stream",
     "text": [
      "True\n",
      "False\n"
     ]
    }
   ],
   "source": [
    "def check_ith_bit(N,i):\n",
    "    #first we have to shift the ith bit number to LSB, so that by multiplying it with 1 we can check. By using property\n",
    "    #of AND operator , which sates A&1= 0; if A is even and A&1=1 if A is odd.\n",
    "    for count in range(i):    \n",
    "        N=N>>1\n",
    "    if N & 1 == 0:\n",
    "        return False\n",
    "    else:\n",
    "        return True\n",
    "print (check_ith_bit(21,2))\n",
    "print (check_ith_bit(25,2))\n",
    "    "
   ]
  },
  {
   "cell_type": "markdown",
   "id": "contemporary-curve",
   "metadata": {},
   "source": [
    "Given two numbers, i and N, set ith of N\n",
    "    for N=4(0100),i=1, op-->0110(6)"
   ]
  },
  {
   "cell_type": "code",
   "execution_count": 5,
   "id": "powered-russian",
   "metadata": {},
   "outputs": [
    {
     "name": "stdout",
     "output_type": "stream",
     "text": [
      "6\n",
      "6\n"
     ]
    }
   ],
   "source": [
    "def set_bit(N,i):\n",
    "    #we will left shift 1 to the ith bit and perform OR operation\n",
    "    mask_number=1\n",
    "    for count in range(i):\n",
    "        mask_number=mask_number<<1 \n",
    "    N=N|mask_number\n",
    "    return N\n",
    "print(set_bit(4,1))\n",
    "print(set_bit(6,1))\n"
   ]
  },
  {
   "cell_type": "markdown",
   "id": "optional-output",
   "metadata": {},
   "source": [
    "Given a positove number, count the nuber of set bits:\n",
    "input=4, op=1"
   ]
  },
  {
   "cell_type": "code",
   "execution_count": 7,
   "id": "played-application",
   "metadata": {},
   "outputs": [
    {
     "name": "stdout",
     "output_type": "stream",
     "text": [
      "1\n",
      "2\n",
      "1\n"
     ]
    }
   ],
   "source": [
    "def count_bit(N):\n",
    "    count=0\n",
    "    while N>0:\n",
    "        if N & 1==1:\n",
    "            count+=1\n",
    "        N=N>>1\n",
    "    return count\n",
    "print(count_bit(4))\n",
    "print(count_bit(3))\n",
    "print(count_bit(1))\n",
    "    "
   ]
  },
  {
   "cell_type": "code",
   "execution_count": null,
   "id": "spatial-ghost",
   "metadata": {},
   "outputs": [],
   "source": []
  },
  {
   "cell_type": "code",
   "execution_count": null,
   "id": "loving-rochester",
   "metadata": {},
   "outputs": [],
   "source": []
  }
 ],
 "metadata": {
  "kernelspec": {
   "display_name": "Python 3",
   "language": "python",
   "name": "python3"
  },
  "language_info": {
   "codemirror_mode": {
    "name": "ipython",
    "version": 3
   },
   "file_extension": ".py",
   "mimetype": "text/x-python",
   "name": "python",
   "nbconvert_exporter": "python",
   "pygments_lexer": "ipython3",
   "version": "3.8.5"
  }
 },
 "nbformat": 4,
 "nbformat_minor": 5
}
