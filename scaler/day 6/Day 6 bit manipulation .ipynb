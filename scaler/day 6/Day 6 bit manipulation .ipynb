{
 "cells": [
  {
   "cell_type": "markdown",
   "id": "copyrighted-perry",
   "metadata": {},
   "source": [
    "# Given any number, check ith bit is set or unset\n",
    "for N=21, and i=2==> its set\n",
    "for N=25(11001), and i=2 its unset"
   ]
  },
  {
   "cell_type": "code",
   "execution_count": 3,
   "id": "romance-parcel",
   "metadata": {},
   "outputs": [
    {
     "name": "stdout",
     "output_type": "stream",
     "text": [
      "True\n",
      "False\n"
     ]
    }
   ],
   "source": [
    "def check_ith_bit(N,i):\n",
    "    #first we have to shift the ith bit number to LSB, so that by multiplying it with 1 we can check. By using property\n",
    "    #of AND operator , which sates A&1= 0; if A is even and A&1=1 if A is odd.\n",
    "    for count in range(i):    \n",
    "        N=N>>1\n",
    "    if N & 1 == 0:\n",
    "        return False\n",
    "    else:\n",
    "        return True\n",
    "print (check_ith_bit(21,2))\n",
    "print (check_ith_bit(25,2))\n",
    "    "
   ]
  },
  {
   "cell_type": "markdown",
   "id": "treated-geology",
   "metadata": {},
   "source": [
    "Given two numbers, i and N, set ith of N\n",
    "    for N=4(0100),i=1, op-->0110(6)"
   ]
  },
  {
   "cell_type": "code",
   "execution_count": 5,
   "id": "authentic-problem",
   "metadata": {},
   "outputs": [
    {
     "name": "stdout",
     "output_type": "stream",
     "text": [
      "6\n",
      "6\n"
     ]
    }
   ],
   "source": [
    "def set_bit(N,i):\n",
    "    #we will left shift 1 to the ith bit and perform OR operation\n",
    "    mask_number=1\n",
    "    for count in range(i):\n",
    "        mask_number=mask_number<<1 \n",
    "    N=N|mask_number\n",
    "    return N\n",
    "print(set_bit(4,1))\n",
    "print(set_bit(6,1))\n"
   ]
  },
  {
   "cell_type": "markdown",
   "id": "polar-research",
   "metadata": {},
   "source": [
    "Given a positove number, count the nuber of set bits:\n",
    "input=4, op=1"
   ]
  },
  {
   "cell_type": "code",
   "execution_count": 7,
   "id": "finnish-cooper",
   "metadata": {},
   "outputs": [
    {
     "name": "stdout",
     "output_type": "stream",
     "text": [
      "1\n",
      "2\n",
      "1\n"
     ]
    }
   ],
   "source": [
    "def count_bit(N):\n",
    "    count=0\n",
    "    while N>0:\n",
    "        if N & 1==1:\n",
    "            count+=1\n",
    "        N=N>>1\n",
    "    return count\n",
    "print(count_bit(4))\n",
    "print(count_bit(3))\n",
    "print(count_bit(1))\n",
    "    "
   ]
  },
  {
   "cell_type": "markdown",
   "id": "israeli-direction",
   "metadata": {},
   "source": [
    "        Given an array where every number appear twice  except 2 numbers, return both numbers (No arrray or hash map to be used)"
   ]
  },
  {
   "cell_type": "code",
   "execution_count": 12,
   "id": "western-liberal",
   "metadata": {},
   "outputs": [
    {
     "name": "stdout",
     "output_type": "stream",
     "text": [
      "(6, 4)\n"
     ]
    }
   ],
   "source": [
    "lista=[5,2,6,2,3,5,4,3,8,8]\n",
    "def get_unique_numbers(lista):\n",
    "    #first try to get rid of duplicate numbers, which can be done by xor all elements of an array\n",
    "    array_xor=0\n",
    "    for num in lista:\n",
    "        array_xor=array_xor ^ num\n",
    "    \n",
    "    #Now given that we have xor of results of 2 unique numbers and with the property of XOR, for any set bit in results\n",
    "    #infers input should be diffrent like if array_xor=010; it means 2 posssbile input one with first bit as set an\n",
    "    #another unset in fist postion. So now we have to calculate postion of set bit in array_xor.\n",
    "    \n",
    "    #my approach will be using AND operator ;\n",
    "    xor_pos=0\n",
    "    while array_xor >0:\n",
    "        if array_xor & 1 == 1:\n",
    "            break\n",
    "        array_xor= array_xor>>1\n",
    "        xor_pos+=1\n",
    "    #Now we have bit postion for which we shal have set and unsset numbers, we have to create 2 groups and didvide\n",
    "    #numbers, against the set/unset bit \n",
    "    num1=0\n",
    "    num2=0\n",
    "    for num in lista:\n",
    "        if check_ith_bit(num,xor_pos):\n",
    "            num1=num1^num\n",
    "        else:\n",
    "            num2=num2^num\n",
    "    return num1,num2\n",
    "\n",
    "print(get_unique_numbers(lista))\n"
   ]
  },
  {
   "cell_type": "code",
   "execution_count": 24,
   "id": "european-greek",
   "metadata": {},
   "outputs": [
    {
     "name": "stdout",
     "output_type": "stream",
     "text": [
      "12\n",
      "7\n"
     ]
    }
   ],
   "source": [
    "def minVal(a,b) :\n",
    "    ans = 0\n",
    "    for i in range(30, -1, -1):\n",
    "        mask = 1<<i \n",
    "        a_set_bit = (a & mask)\n",
    "        #print ('a_set_bit',a_set_bit)\n",
    "        # If i'th bit is set also set the\n",
    "        # same bit in the required number\n",
    "        if (a_set_bit and b) > 0 :\n",
    "            ans = ans | (1 << i)\n",
    "            # Decrease the count of setbits\n",
    "            # in b as the count of set bits\n",
    "            # in the required number has to be\n",
    "            # equal to the count of set bits in b\n",
    "            b -= 1\n",
    "    if b > 0:\n",
    "        for i in range(31):\n",
    "            mask = 1 << i\n",
    "            a_unset_bit= a & mask\n",
    "            if (a_unset_bit == 0) & (b > 0):\n",
    "                ans = ans | (1 << i)\n",
    "                b=b-1\n",
    "    if b == 0:\n",
    "        return ans\n",
    "    \n",
    "print (minVal(15,2))\n",
    "print (minVal(3,3))   \n",
    "    \n",
    "    "
   ]
  },
  {
   "cell_type": "raw",
   "id": "former-promise",
   "metadata": {},
   "source": [
    "\n",
    "Reverse the bits of an 32 bit unsigned integer A.\n",
    "\n",
    "\n",
    "\n",
    "Problem Constraints\n",
    "0 <= A <= 232\n",
    "\n",
    "\n",
    "\n",
    "Input Format\n",
    "First and only argument of input contains an integer A.\n",
    "\n",
    "\n",
    "\n",
    "Output Format\n",
    "Return a single unsigned integer denoting the decimal value of reversed bits.\n",
    "\n",
    "\n",
    "\n",
    "Example Input\n",
    "Input 1:\n",
    "\n",
    " 0\n",
    "Input 2:\n",
    "\n",
    " 3\n",
    "\n",
    "\n",
    "Example Output\n",
    "Output 1:\n",
    "\n",
    " 0\n",
    "Output 2:\n",
    "\n",
    " 3221225472\n",
    "\n",
    "\n",
    "Example Explanation\n",
    "Explanation 1:\n",
    "\n",
    "        00000000000000000000000000000000    \n",
    "=>      00000000000000000000000000000000\n",
    "Explanation 2:\n",
    "\n",
    "        00000000000000000000000000000011    \n",
    "=>      11000000000000000000000000000000"
   ]
  },
  {
   "cell_type": "code",
   "execution_count": 26,
   "id": "extreme-senator",
   "metadata": {},
   "outputs": [
    {
     "name": "stdout",
     "output_type": "stream",
     "text": [
      "0\n",
      "3221225472\n"
     ]
    }
   ],
   "source": [
    "def reverse(A):\n",
    "        result=0\n",
    "        \n",
    "        for i in range(32):\n",
    "            #check if A's set bit\n",
    "            if (A & (1<<i))> 0:\n",
    "                result= result | (1 << (31-i))\n",
    "        return result\n",
    "print (reverse(0))\n",
    "print (reverse(3))"
   ]
  },
  {
   "cell_type": "code",
   "execution_count": null,
   "id": "homeless-vehicle",
   "metadata": {},
   "outputs": [],
   "source": []
  },
  {
   "cell_type": "code",
   "execution_count": 19,
   "id": "clear-induction",
   "metadata": {},
   "outputs": [
    {
     "name": "stdout",
     "output_type": "stream",
     "text": [
      "0\n",
      "0\n",
      "0\n",
      "0\n",
      "0\n",
      "0\n",
      "0\n",
      "0\n",
      "0\n",
      "0\n",
      "0\n",
      "0\n",
      "0\n",
      "0\n",
      "0\n",
      "0\n",
      "0\n",
      "0\n",
      "0\n",
      "0\n",
      "0\n",
      "0\n",
      "0\n",
      "0\n",
      "0\n",
      "0\n",
      "0\n",
      "8\n",
      "4\n",
      "2\n",
      "1\n"
     ]
    }
   ],
   "source": [
    "a=15\n",
    "for i in range(30,-1,-1):\n",
    "    mask = (1 << i)\n",
    "    s = (a & mask)\n",
    "    print (s)"
   ]
  },
  {
   "cell_type": "code",
   "execution_count": null,
   "id": "technological-yield",
   "metadata": {},
   "outputs": [],
   "source": []
  },
  {
   "cell_type": "code",
   "execution_count": null,
   "id": "seven-guitar",
   "metadata": {},
   "outputs": [],
   "source": []
  },
  {
   "cell_type": "code",
   "execution_count": null,
   "id": "brave-panic",
   "metadata": {},
   "outputs": [],
   "source": []
  },
  {
   "cell_type": "code",
   "execution_count": null,
   "id": "golden-colorado",
   "metadata": {},
   "outputs": [],
   "source": []
  },
  {
   "cell_type": "code",
   "execution_count": null,
   "id": "facial-reference",
   "metadata": {},
   "outputs": [],
   "source": []
  },
  {
   "cell_type": "code",
   "execution_count": null,
   "id": "broad-toyota",
   "metadata": {},
   "outputs": [],
   "source": []
  },
  {
   "cell_type": "code",
   "execution_count": null,
   "id": "desirable-teacher",
   "metadata": {},
   "outputs": [],
   "source": []
  },
  {
   "cell_type": "code",
   "execution_count": null,
   "id": "amber-pasta",
   "metadata": {},
   "outputs": [],
   "source": []
  },
  {
   "cell_type": "code",
   "execution_count": null,
   "id": "complicated-theorem",
   "metadata": {},
   "outputs": [],
   "source": []
  },
  {
   "cell_type": "code",
   "execution_count": null,
   "id": "dependent-roulette",
   "metadata": {},
   "outputs": [],
   "source": []
  },
  {
   "cell_type": "code",
   "execution_count": null,
   "id": "selected-farming",
   "metadata": {},
   "outputs": [],
   "source": []
  },
  {
   "cell_type": "code",
   "execution_count": null,
   "id": "renewable-commander",
   "metadata": {},
   "outputs": [],
   "source": []
  }
 ],
 "metadata": {
  "kernelspec": {
   "display_name": "Python 3",
   "language": "python",
   "name": "python3"
  },
  "language_info": {
   "codemirror_mode": {
    "name": "ipython",
    "version": 3
   },
   "file_extension": ".py",
   "mimetype": "text/x-python",
   "name": "python",
   "nbconvert_exporter": "python",
   "pygments_lexer": "ipython3",
   "version": "3.8.5"
  }
 },
 "nbformat": 4,
 "nbformat_minor": 5
}
