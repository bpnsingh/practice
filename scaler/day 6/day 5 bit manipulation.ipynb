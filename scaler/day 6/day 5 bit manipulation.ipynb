{
 "cells": [
  {
   "cell_type": "raw",
   "id": "coupled-healthcare",
   "metadata": {},
   "source": [
    "Write a function that takes an integer and returns the number of 1 bits it has.\n",
    "\n",
    "Problem Constraints\n",
    "1 <= A <= 109\n",
    "\n",
    "Input Format\n",
    "First and only argument contains integer A\n",
    "\n",
    "Output Format\n",
    "Return an integer as the answer\n",
    "\n",
    "Example Input\n",
    "Input1:\n",
    "11\n",
    "\n",
    "Example Output\n",
    "Output1:\n",
    "3\n",
    "\n",
    "Example Explanation\n",
    "Explaination1:\n",
    "11 is represented as 1011 in binary."
   ]
  },
  {
   "cell_type": "code",
   "execution_count": 2,
   "id": "brutal-screw",
   "metadata": {},
   "outputs": [
    {
     "name": "stdout",
     "output_type": "stream",
     "text": [
      "3\n"
     ]
    }
   ],
   "source": [
    "def numSetBits(A):\n",
    "    count=0\n",
    "    while A > 0:\n",
    "        if (A & 1) == 1:\n",
    "            count+=1\n",
    "        A=A>>1\n",
    "    return count\n",
    "print (numSetBits(11))"
   ]
  },
  {
   "cell_type": "code",
   "execution_count": null,
   "id": "competent-shark",
   "metadata": {},
   "outputs": [],
   "source": []
  },
  {
   "cell_type": "code",
   "execution_count": null,
   "id": "adaptive-royal",
   "metadata": {},
   "outputs": [],
   "source": []
  }
 ],
 "metadata": {
  "kernelspec": {
   "display_name": "Python 3",
   "language": "python",
   "name": "python3"
  },
  "language_info": {
   "codemirror_mode": {
    "name": "ipython",
    "version": 3
   },
   "file_extension": ".py",
   "mimetype": "text/x-python",
   "name": "python",
   "nbconvert_exporter": "python",
   "pygments_lexer": "ipython3",
   "version": "3.8.5"
  }
 },
 "nbformat": 4,
 "nbformat_minor": 5
}
