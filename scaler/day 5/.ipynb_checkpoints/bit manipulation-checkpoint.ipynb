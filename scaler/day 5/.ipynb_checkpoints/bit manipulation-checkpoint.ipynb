{
 "cells": [
  {
   "cell_type": "markdown",
   "id": "practical-biology",
   "metadata": {},
   "source": [
    "Write a function that takes an integer and returns the number of 1 bits it has.\n",
    "\n",
    "\n",
    "Problem Constraints\n",
    "1 <= A <= 109\n",
    "\n",
    "\n",
    "Input Format\n",
    "First and only argument contains integer A\n",
    "\n",
    "\n",
    "Output Format\n",
    "Return an integer as the answer\n",
    "\n",
    "\n",
    "Example Input\n",
    "Input1:\n",
    "11"
   ]
  },
  {
   "cell_type": "code",
   "execution_count": 7,
   "id": "foster-quest",
   "metadata": {},
   "outputs": [
    {
     "name": "stdout",
     "output_type": "stream",
     "text": [
      "5 1\n",
      "2 1\n",
      "1 0\n",
      "0 1\n",
      "3\n"
     ]
    }
   ],
   "source": [
    "N=11\n",
    "lista=[]\n",
    "while N > 0:\n",
    "    R=N%2\n",
    "    N=N//2\n",
    "    print('{0} {1}'.format(N,R))\n",
    "    lista.append(R)\n",
    "#print(lista[[-1]])\n",
    "print(lista.count(1))"
   ]
  }
 ],
 "metadata": {
  "kernelspec": {
   "display_name": "Python 3",
   "language": "python",
   "name": "python3"
  },
  "language_info": {
   "codemirror_mode": {
    "name": "ipython",
    "version": 3
   },
   "file_extension": ".py",
   "mimetype": "text/x-python",
   "name": "python",
   "nbconvert_exporter": "python",
   "pygments_lexer": "ipython3",
   "version": "3.8.5"
  }
 },
 "nbformat": 4,
 "nbformat_minor": 5
}
