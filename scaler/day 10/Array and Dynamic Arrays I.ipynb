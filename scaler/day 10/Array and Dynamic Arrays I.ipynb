{
 "cells": [
  {
   "cell_type": "code",
   "execution_count": 9,
   "id": "black-lotus",
   "metadata": {},
   "outputs": [
    {
     "name": "stdout",
     "output_type": "stream",
     "text": [
      "[3]\n",
      "[3, 1]\n",
      "[3, 1, 2]\n",
      "[1]\n",
      "[1, 2]\n",
      "[2]\n"
     ]
    }
   ],
   "source": [
    "def sumofconsecutive(A):\n",
    "    N = len(A)\n",
    "    for i in range(N):\n",
    "        for j in range(i,N):\n",
    "            lista=[]\n",
    "            for k in range(i,j+1):\n",
    "                lista.append(A[k])\n",
    "            print (lista)\n",
    "sumofconsecutive([3,1,2]))"
   ]
  },
  {
   "cell_type": "code",
   "execution_count": 12,
   "id": "innovative-destruction",
   "metadata": {},
   "outputs": [],
   "source": [
    "a=b=2\n"
   ]
  },
  {
   "cell_type": "code",
   "execution_count": null,
   "id": "excellent-gazette",
   "metadata": {},
   "outputs": [],
   "source": []
  },
  {
   "cell_type": "code",
   "execution_count": 16,
   "id": "consecutive-timeline",
   "metadata": {},
   "outputs": [
    {
     "data": {
      "text/plain": [
       "'\\n        #calulating length of an array single time\\n        N = len(A)\\n        max = A[0]\\n        for i in range(N): \\n            sum = 0\\n            for j in range(i,N):\\n                sum += A[j]\\n                if sum > max :\\n                    max =sum\\n        return max\\n        '"
      ]
     },
     "execution_count": 16,
     "metadata": {},
     "output_type": "execute_result"
    }
   ],
   "source": [
    "   #calulating length of an array single time\n",
    "        N = len(A)\n",
    "        max = A[0]\n",
    "        for i in range(N): \n",
    "            sum = 0\n",
    "            for j in range(i,N):\n",
    "                sum += A[j]\n",
    "                if sum > max :\n",
    "                    max =sum\n",
    "        return max\n",
    "        '''\n"
   ]
  },
  {
   "cell_type": "code",
   "execution_count": 17,
   "id": "abroad-mexican",
   "metadata": {},
   "outputs": [
    {
     "data": {
      "text/plain": [
       "-20"
      ]
     },
     "execution_count": 17,
     "metadata": {},
     "output_type": "execute_result"
    }
   ],
   "source": [
    "max([-163,-20])"
   ]
  },
  {
   "cell_type": "code",
   "execution_count": 25,
   "id": "cleared-investigator",
   "metadata": {},
   "outputs": [
    {
     "name": "stdout",
     "output_type": "stream",
     "text": [
      "0\n"
     ]
    }
   ],
   "source": [
    "def maxSubArray(A):\n",
    "        current_sum = 0\n",
    "        max_sum = 0\n",
    "        for num in A:\n",
    "            current_sum += num\n",
    "            max_sum = max(current_sum,max_sum)\n",
    "            if current_sum < 0:\n",
    "                current_sum = 0\n",
    "        return max_sum\n",
    "print (maxSubArray((-163,-20)))"
   ]
  },
  {
   "cell_type": "code",
   "execution_count": 22,
   "id": "musical-movement",
   "metadata": {},
   "outputs": [
    {
     "name": "stdout",
     "output_type": "stream",
     "text": [
      "-20\n"
     ]
    }
   ],
   "source": [
    "def maxSubArray(A):\n",
    "        max_ending_here = max_so_far = A[0]\n",
    "        for x in A[1:]:\n",
    "            max_ending_here = max(x, max_ending_here+x)\n",
    "            max_so_far = max(max_so_far, max_ending_here)\n",
    "        return max_so_far\n",
    "print (maxSubArray((-163,-20)))"
   ]
  },
  {
   "cell_type": "code",
   "execution_count": 17,
   "id": "desirable-lending",
   "metadata": {},
   "outputs": [
    {
     "name": "stdout",
     "output_type": "stream",
     "text": [
      "-1\n"
     ]
    }
   ],
   "source": [
    "def solve(A):\n",
    "    N= len(A)\n",
    "    sorted_array=sorted(A)\n",
    "    #print (sorted_array)\n",
    "    for i in range(N-1):\n",
    "        if sorted_array[i] == sorted_array[i+1]:\n",
    "            continue\n",
    "        if abs(sorted_array[i]) == len(sorted_array[i+1:]):\n",
    "            #print (sorted_array[i])\n",
    "            return 1\n",
    "    return -1\n",
    "A=[-4,-2,0,-1,-6]\n",
    "B=[ -1, -2, 0, 0, 0, -3 ]\n",
    "C=[ 1, 2, 7, 0, 9, 3, 6, 0, 6 ]\n",
    "D=[3,2,1,3]\n",
    "print (solve(B))"
   ]
  },
  {
   "cell_type": "code",
   "execution_count": 22,
   "id": "hollow-typing",
   "metadata": {},
   "outputs": [
    {
     "name": "stdout",
     "output_type": "stream",
     "text": [
      "2\n",
      "[1, 2, 3, 4]\n",
      "3\n",
      "[1, 2, 3, 4]\n",
      "0\n",
      "[1, 2, 3, 4]\n",
      "1\n",
      "[1, 2, 3, 4]\n",
      "[3, 4, 1, 2]\n"
     ]
    }
   ],
   "source": [
    "def shift_array(A,B):\n",
    "    N = len(A)\n",
    "    ans=[]\n",
    "    for i in range(N):\n",
    "        shifted_index = (N-B+i)%N\n",
    "        print (shifted_index)\n",
    "        print (A)\n",
    "        ans.append(A[shifted_index])\n",
    "    print (ans)\n",
    "shift_array([1,2,3,4],2)"
   ]
  },
  {
   "cell_type": "code",
   "execution_count": 26,
   "id": "certified-humanity",
   "metadata": {},
   "outputs": [
    {
     "name": "stdout",
     "output_type": "stream",
     "text": [
      "12\n"
     ]
    }
   ],
   "source": [
    "def solve(A, B):\n",
    "        N = len(A) -B + 1\n",
    "        ans = 0\n",
    "        avg = 0\n",
    "        sub_sum = 0\n",
    "        for num in range(B):\n",
    "            sub_sum+=A[num]\n",
    "        #print (sub_sum)\n",
    "        minimum_avg = sub_sum\n",
    "        for i in range(1,N):\n",
    "            sub_sum = sub_sum - A[i-1] + A[B+i-1]\n",
    "            \n",
    "            #print (i,sub_sum)\n",
    "            if sub_sum < minimum_avg:\n",
    "                ans = i\n",
    "                minimum_avg = sub_sum\n",
    "        return ans\n",
    "\n",
    "print (solve([ 18, 11, 16, 19, 11, 9, 8, 15, 3, 10, 9, 20, 1, 19 ],1))\n",
    "\n"
   ]
  }
 ],
 "metadata": {
  "kernelspec": {
   "display_name": "Python 3",
   "language": "python",
   "name": "python3"
  },
  "language_info": {
   "codemirror_mode": {
    "name": "ipython",
    "version": 3
   },
   "file_extension": ".py",
   "mimetype": "text/x-python",
   "name": "python",
   "nbconvert_exporter": "python",
   "pygments_lexer": "ipython3",
   "version": "3.8.5"
  }
 },
 "nbformat": 4,
 "nbformat_minor": 5
}
