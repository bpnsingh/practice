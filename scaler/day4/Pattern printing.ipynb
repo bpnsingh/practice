{
 "cells": [
  {
   "cell_type": "markdown",
   "id": "clinical-queue",
   "metadata": {},
   "source": [
    "# # Print box of stars"
   ]
  },
  {
   "cell_type": "code",
   "execution_count": 9,
   "id": "treated-triumph",
   "metadata": {},
   "outputs": [
    {
     "name": "stdout",
     "output_type": "stream",
     "text": [
      "* * * * * \n",
      "* * * * * \n",
      "* * * * * \n",
      "* * * * * \n",
      "* * * * * \n"
     ]
    }
   ],
   "source": [
    "for j in range(5):\n",
    "    for i in range(5):\n",
    "        print ('* ',end='')\n",
    "    print()"
   ]
  },
  {
   "cell_type": "markdown",
   "id": "chemical-haiti",
   "metadata": {},
   "source": [
    "##Increasing tringle\n"
   ]
  },
  {
   "cell_type": "code",
   "execution_count": 11,
   "id": "bizarre-basket",
   "metadata": {},
   "outputs": [
    {
     "name": "stdout",
     "output_type": "stream",
     "text": [
      "* \n",
      "* * \n",
      "* * * \n",
      "* * * * \n",
      "* * * * * \n"
     ]
    }
   ],
   "source": [
    "for j in range(5):\n",
    "    for i in range(j+1):\n",
    "        print ('* ',end='')\n",
    "    print()"
   ]
  },
  {
   "cell_type": "markdown",
   "id": "double-israel",
   "metadata": {},
   "source": [
    "# decreasing trinagle"
   ]
  },
  {
   "cell_type": "code",
   "execution_count": 29,
   "id": "multiple-arrival",
   "metadata": {},
   "outputs": [
    {
     "name": "stdout",
     "output_type": "stream",
     "text": [
      "[[1, 0, 0, 0], [1, 2, 0, 0], [1, 2, 3, 0], [1, 2, 3, 4]]\n"
     ]
    }
   ],
   "source": [
    "A=4\n",
    "list_ans=[]\n",
    "for i in range(1,A+1):\n",
    "    list_row=[]\n",
    "    for j in range(1,i+1):\n",
    "        #print (j,end=' ')\n",
    "        list_row.append(j)\n",
    "    for j in range(1,A-i+1):\n",
    "        #print (0,end=' ')\n",
    "        list_row.append(0)\n",
    "    list_ans.append(list_row)\n",
    "print (list_ans)"
   ]
  },
  {
   "cell_type": "code",
   "execution_count": 36,
   "id": "grand-croatia",
   "metadata": {},
   "outputs": [
    {
     "name": "stdout",
     "output_type": "stream",
     "text": [
      "None\n",
      "[1, 4, 5, 9]\n"
     ]
    }
   ],
   "source": [
    "lista=[1,4,5,9]\n",
    "b=sorted(lista)\n",
    "print (lista.sort())\n",
    "print (b)"
   ]
  },
  {
   "cell_type": "code",
   "execution_count": 38,
   "id": "blocked-award",
   "metadata": {},
   "outputs": [
    {
     "name": "stdout",
     "output_type": "stream",
     "text": [
      "hola\n"
     ]
    }
   ],
   "source": [
    "x=2\n",
    "if 1<x<3:\n",
    "    print(\"hola\")"
   ]
  },
  {
   "cell_type": "code",
   "execution_count": 44,
   "id": "lined-harrison",
   "metadata": {},
   "outputs": [
    {
     "name": "stdout",
     "output_type": "stream",
     "text": [
      "None\n",
      "[1, 2, 4, 5, 99]\n"
     ]
    },
    {
     "data": {
      "text/plain": [
       "99"
      ]
     },
     "execution_count": 44,
     "metadata": {},
     "output_type": "execute_result"
    }
   ],
   "source": [
    "lista=[1, 2, 99, 4, 5]\n",
    "print (lista.sort())\n",
    "print (lista)\n",
    "max(lista)"
   ]
  },
  {
   "cell_type": "code",
   "execution_count": 45,
   "id": "manual-surrey",
   "metadata": {},
   "outputs": [],
   "source": [
    "max??"
   ]
  }
 ],
 "metadata": {
  "kernelspec": {
   "display_name": "Python 3",
   "language": "python",
   "name": "python3"
  },
  "language_info": {
   "codemirror_mode": {
    "name": "ipython",
    "version": 3
   },
   "file_extension": ".py",
   "mimetype": "text/x-python",
   "name": "python",
   "nbconvert_exporter": "python",
   "pygments_lexer": "ipython3",
   "version": "3.8.5"
  }
 },
 "nbformat": 4,
 "nbformat_minor": 5
}
