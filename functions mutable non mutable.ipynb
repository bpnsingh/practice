{
 "cells": [
  {
   "cell_type": "code",
   "execution_count": 2,
   "metadata": {},
   "outputs": [
    {
     "name": "stdout",
     "output_type": "stream",
     "text": [
      "start_num\t-> 1\n",
      "calc'd_num\t-> 3\n",
      "start_num\t-> 1\n",
      "False\n"
     ]
    }
   ],
   "source": [
    "## Function frames and variable scope\n",
    "# Below is the initial implementation\n",
    "def func_0(start_num):\n",
    "    start_num += 1\n",
    "    return func_1(start_num)\n",
    "\n",
    "def func_1(start_num):\n",
    "    start_num += 1\n",
    "    return start_num\n",
    "\n",
    "start_num = 1\n",
    "print(f\"start_num\\t-> {start_num}\")\n",
    "finish_num = func_0(start_num)\n",
    "print(f\"calc'd_num\\t-> {finish_num}\")\n",
    "print(f\"start_num\\t-> {start_num}\")\n",
    "print(finish_num == start_num)"
   ]
  },
  {
   "cell_type": "code",
   "execution_count": 3,
   "metadata": {},
   "outputs": [
    {
     "name": "stdout",
     "output_type": "stream",
     "text": [
      "start_num\t-> [1]\n",
      "calc'd_num\t-> [3]\n",
      "start_num\t-> [3]\n",
      "True\n"
     ]
    }
   ],
   "source": [
    "def func_0(other_num):\n",
    "    other_num[0] += 1\n",
    "    return func_1(other_num)\n",
    "\n",
    "def func_1(another_num):\n",
    "    another_num[0] += 1\n",
    "    return another_num\n",
    "\n",
    "# Execution code below using same list object\n",
    "start_num = [1]\n",
    "print(f\"start_num\\t-> {start_num}\")\n",
    "finish_num = func_0(start_num)\n",
    "print(f\"calc'd_num\\t-> {finish_num}\")\n",
    "print(f\"start_num\\t-> {start_num}\")\n",
    "print(finish_num == start_num)\n"
   ]
  },
  {
   "cell_type": "code",
   "execution_count": 4,
   "metadata": {},
   "outputs": [
    {
     "name": "stdout",
     "output_type": "stream",
     "text": [
      "start_num\t-> [1]\n",
      "calc'd_num\t-> [3]\n",
      "start_num\t-> [1]\n",
      "False\n"
     ]
    }
   ],
   "source": [
    "def func_0(other_num):\n",
    "    other_num[0] += 1\n",
    "    return func_1(other_num)\n",
    "\n",
    "def func_1(another_num):\n",
    "    another_num[0] += 1\n",
    "    return another_num\n",
    "\n",
    "# Execution code below using same list object\n",
    "start_num = [1]\n",
    "print(f\"start_num\\t-> {start_num}\")\n",
    "finish_num = func_0(start_num.copy())\n",
    "print(f\"calc'd_num\\t-> {finish_num}\")\n",
    "print(f\"start_num\\t-> {start_num}\")\n",
    "print(finish_num == start_num)"
   ]
  },
  {
   "cell_type": "code",
   "execution_count": 5,
   "metadata": {},
   "outputs": [
    {
     "name": "stdout",
     "output_type": "stream",
     "text": [
      "start_num\t-> [1]\n",
      "calc'd_num\t-> [3]\n",
      "start_num\t-> [1]\n",
      "False\n"
     ]
    }
   ],
   "source": [
    "def func_0(other_num):\n",
    "    other_num[0] += 1\n",
    "    return func_1(other_num)\n",
    "\n",
    "def func_1(another_num):\n",
    "    another_num[0] += 1\n",
    "    return another_num\n",
    "\n",
    "# Execution code below using same list object\n",
    "start_num = [1]\n",
    "print(f\"start_num\\t-> {start_num}\")\n",
    "finish_num = func_0(start_num[:])\n",
    "print(f\"calc'd_num\\t-> {finish_num}\")\n",
    "print(f\"start_num\\t-> {start_num}\")\n",
    "print(finish_num == start_num)"
   ]
  },
  {
   "cell_type": "code",
   "execution_count": 8,
   "metadata": {},
   "outputs": [
    {
     "name": "stdout",
     "output_type": "stream",
     "text": [
      "[4, 5, 6, 9, 10, 12, 23]\n",
      "[6, 5, 4, 9, 10, 23, 12]\n",
      "[6, 5, 4, 9, 10, 23, 12]\n"
     ]
    }
   ],
   "source": [
    "def run_func(func_name, some_list):\n",
    "    print (func_name(some_list))\n",
    "    print (some_list)\n",
    " \n",
    "l1 = [6,5,4,9,10,23,12]\n",
    "run_func(sorted, l1)\n",
    "print(l1)"
   ]
  },
  {
   "cell_type": "code",
   "execution_count": null,
   "metadata": {},
   "outputs": [],
   "source": []
  }
 ],
 "metadata": {
  "kernelspec": {
   "display_name": "Python 3",
   "language": "python",
   "name": "python3"
  },
  "language_info": {
   "codemirror_mode": {
    "name": "ipython",
    "version": 3
   },
   "file_extension": ".py",
   "mimetype": "text/x-python",
   "name": "python",
   "nbconvert_exporter": "python",
   "pygments_lexer": "ipython3",
   "version": "3.8.1"
  }
 },
 "nbformat": 4,
 "nbformat_minor": 4
}
